{
 "cells": [
  {
   "cell_type": "markdown",
   "metadata": {},
   "source": [
    "Ex1:\n",
    "    \n",
    "1. Ecrire une fonction qui prend en entrée une fonction f et des réels a et h et donne en sortie le taux de variation (ou d'accroissement) de la fonction f entre le point d'abscisse a+h et a.\n",
    "2. Tester avec f(x)=3x^3+1x^2-5"
   ]
  },
  {
   "cell_type": "code",
   "execution_count": 8,
   "metadata": {},
   "outputs": [
    {
     "name": "stdout",
     "output_type": "stream",
     "text": [
      "1220.0\n"
     ]
    }
   ],
   "source": [
    "\n",
    "def TDV(f, a, h):\n",
    "    res = (f(a+h)-f(a))/h    #(f(b) -f (a))/(b-a)\n",
    "    return res\n",
    "\n",
    "def f(x):\n",
    "    return 3 * x**3 + 1 * x**2 - 5\n",
    "\n",
    "print(TDV(f, 10, 3))"
   ]
  },
  {
   "cell_type": "markdown",
   "metadata": {},
   "source": [
    "Ex2:\n",
    "1. Ecrire une fonction qui calcule la liste des coefficients directeurs pour une fonction f définit sur I=[a;b] avec un pas \"p\"\n",
    "2. Tester avec f(x)=(1+x)/(x-4) définit sur I=[0,1] avec un pas de 0.01"
   ]
  },
  {
   "cell_type": "code",
   "execution_count": null,
   "metadata": {},
   "outputs": [],
   "source": []
  },
  {
   "cell_type": "markdown",
   "metadata": {},
   "source": [
    "Ex3:\n",
    "on considère une suite U définie par Un+1=Un+n+1 et de premier terme U0. Ecrire une fonction qui prend en entrée les valeurs de n et U0 et affiche la valeur de Un.\n",
    "1. De facon iterative\n",
    "2. Par recurence"
   ]
  },
  {
   "cell_type": "code",
   "execution_count": 10,
   "metadata": {},
   "outputs": [
    {
     "name": "stdout",
     "output_type": "stream",
     "text": [
      "66\n",
      "66\n"
     ]
    }
   ],
   "source": [
    "def it(U0,n):\n",
    "    i = 1\n",
    "    Un = U0\n",
    "    while  i <= n : \n",
    "        Un=Un+i+1\n",
    "        i+=1\n",
    "    \n",
    "    return Un\n",
    "\n",
    "print(it(1,10))\n",
    "\n",
    "\n",
    "def rec(u,n):\n",
    "    if n==0 :\n",
    "        return u\n",
    "    else :\n",
    "        un = rec(u,n-1)\n",
    "        return un+n+1\n",
    "\n",
    "print(rec(1,10))\n"
   ]
  },
  {
   "cell_type": "markdown",
   "metadata": {},
   "source": [
    "Ex4:\n",
    "On pose Tn=n^2−(n−1)^2 ainsi que Sn=T1+T2+T3+...+Tn.\n",
    "1. Etant donné n, afficher la valeur de Sn."
   ]
  },
  {
   "cell_type": "code",
   "execution_count": 14,
   "metadata": {},
   "outputs": [
    {
     "data": {
      "text/plain": [
       "4"
      ]
     },
     "execution_count": 14,
     "metadata": {},
     "output_type": "execute_result"
    }
   ],
   "source": [
    "\n",
    "def T(n):\n",
    "    return (n**2-((n-1)**2))\n",
    "\n",
    "def Sn(n):\n",
    "    res = 0\n",
    "    for i in range(1, n+1):\n",
    "        res = res + T(i)\n",
    "    return res\n",
    "\n",
    "print(Sn(2))"
   ]
  },
  {
   "cell_type": "markdown",
   "metadata": {},
   "source": [
    "Ex5:\n",
    "Soit la suite définie par Un+1=0.5.Un et de premier terme U0. Plus la valeur de n augmente, plus les valeurs de Un se rapprochent de 0.\n",
    "\n",
    "Ecrire une fonction qui permet de déterminer pour un réel positif e donné, quel est le plus petit entier n tel que la valeur de Un soit inférieure à e.\n"
   ]
  },
  {
   "cell_type": "code",
   "execution_count": 19,
   "metadata": {},
   "outputs": [
    {
     "data": {
      "text/plain": [
       "6"
      ]
     },
     "execution_count": 19,
     "metadata": {},
     "output_type": "execute_result"
    }
   ],
   "source": [
    "def pluspetitn(e,u0):\n",
    "    un = u0\n",
    "    n=0\n",
    "    while(un>e):\n",
    "        un=un/2\n",
    "        n+=1\n",
    "    return n\n",
    "pluspetitn(0.000001,4)"
   ]
  },
  {
   "cell_type": "markdown",
   "metadata": {},
   "source": [
    "Ex6: Constante K de Catalan : https://fr.wikipedia.org/wiki/Constante_de_Catalan\n",
    "Ecrire une fonction qui permet de retourner une valeur approchée de la constante K et en s’arrêtant dès que la valeur absolue de la différence entre deux somme successives devienne inférieure ou égale à une erreur epsilon donnée en paramètre.\n",
    "\n"
   ]
  },
  {
   "cell_type": "code",
   "execution_count": 20,
   "metadata": {},
   "outputs": [
    {
     "name": "stdout",
     "output_type": "stream",
     "text": [
      "0.9288888888888889\n"
     ]
    }
   ],
   "source": [
    "def val_app(epsilon): \n",
    "    elm1=1\n",
    "    elm2=elm1-1/(3**2)\n",
    "    signe=1\n",
    "    val=5\n",
    "    while abs(elm2-elm1)>epsilon:\n",
    "       elm1=elm2\n",
    "       elm2=elm1+signe*(1/(val**2))\n",
    "       val+=2\n",
    "       signe*=(-1)\n",
    "    return elm2\n",
    "\n",
    "print(val_app(0.05))"
   ]
  },
  {
   "cell_type": "markdown",
   "metadata": {},
   "source": [
    "Ex 7:\n",
    "Ecrivez une fonction permettant de calculer la limite à epsilon près de la suite définie par la relation de récurrence :\n",
    "\n",
    "U0 =2\n",
    "Un+1= Un + 2/Un  , n>0.\n",
    "\n",
    "On arrête d’itérer quand l’intervalle entre 2 termes consécutifs devient strictement inférieur à epsilon."
   ]
  },
  {
   "cell_type": "code",
   "execution_count": 21,
   "metadata": {},
   "outputs": [
    {
     "name": "stdout",
     "output_type": "stream",
     "text": [
      "40.07875060343533\n"
     ]
    }
   ],
   "source": [
    "def limite(epsilon):\n",
    "    U0 = 2\n",
    "    Un = U0+2/U0\n",
    "    while abs(Un-U0) > epsilon:\n",
    "        U0 = Un\n",
    "        Un = U0+2/U0\n",
    "    return Un\n",
    " \n",
    " \n",
    "print(limite(0.05))"
   ]
  }
 ],
 "metadata": {
  "kernelspec": {
   "display_name": "Python 3",
   "language": "python",
   "name": "python3"
  }
 },
 "nbformat": 4,
 "nbformat_minor": 4
}
